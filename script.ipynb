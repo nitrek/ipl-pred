{
 "cells": [
  {
   "cell_type": "markdown",
   "metadata": {
    "_cell_guid": "c42c4e55-56a7-153c-2b61-8e82115ea40c",
    "_uuid": "98dc42d8dbd156650156a2879e199c58672d6aab"
   },
   "source": [
    "#Introduction\n",
    "We have the Indian Premier League data from 2008 to 2016. We have two files to begin with. \n",
    "Matches - giving us details of each match played.\n",
    "Deliveries - all the deliveries in all the matches put together. \n",
    "We would work on these two files to extract data on each match, batsmen and bowlers."
   ]
  },
  {
   "cell_type": "code",
   "execution_count": null,
   "metadata": {
    "_cell_guid": "931fdf0b-0609-9c62-578c-2dc32e6efcb0",
    "_uuid": "d24c5e052e5a01ebe079d48fb8e2852799af2be1",
    "collapsed": true
   },
   "outputs": [],
   "source": [
    "import numpy as np # linear algebra\n",
    "import pandas as pd # data processing, CSV file I/O (e.g. pd.read_csv)\n",
    "import matplotlib.pyplot as plt\n",
    "import seaborn as sns\n",
    "import warnings\n",
    "warnings.simplefilter(action = \"ignore\", category = FutureWarning)\n",
    "\n",
    "matches = pd.read_csv('../input/matches.csv')\n",
    "matches[\"type\"] = \"pre-qualifier\"\n",
    "for year in range(2008, 2017):\n",
    "   final_match_index = matches[matches['season']==year][-1:].index.values[0]\n",
    "   matches = matches.set_value(final_match_index, \"type\", \"final\")\n",
    "   matches = matches.set_value(final_match_index-1, \"type\", \"qualifier-2\")\n",
    "   matches = matches.set_value(final_match_index-2, \"type\", \"eliminator\")\n",
    "   matches = matches.set_value(final_match_index-3, \"type\", \"qualifier-1\")\n",
    "\n",
    "matches.groupby([\"type\"])[\"id\"].count()\n",
    "matches.head()"
   ]
  },
  {
   "cell_type": "code",
   "execution_count": null,
   "metadata": {
    "_cell_guid": "bb6a7f4c-5d50-e200-8011-ff72ba132c68",
    "_uuid": "f81b801557d109b314ab550d737bc4d1d9604491",
    "collapsed": true
   },
   "outputs": [],
   "source": [
    "deliveries = pd.read_csv('../input/deliveries.csv')\n",
    "deliveries.head()"
   ]
  },
  {
   "cell_type": "markdown",
   "metadata": {
    "_cell_guid": "05e8d276-af4f-62c8-ea3a-1287151e7627",
    "_uuid": "66477e392fd6e8eca10401ef161cd0f41d35ad73"
   },
   "source": [
    "##Add team score and team extra columns for each match, each inning."
   ]
  },
  {
   "cell_type": "code",
   "execution_count": null,
   "metadata": {
    "_cell_guid": "44013c74-5f32-ccfc-200a-d4906e021faa",
    "_uuid": "6718a9da81a1d5469234c1dd5749010737bd9842",
    "collapsed": true
   },
   "outputs": [],
   "source": [
    "team_score = deliveries.groupby(['match_id', 'inning'])['total_runs'].sum().unstack().reset_index()\n",
    "team_score.columns = ['match_id', 'Team1_score', 'Team2_score', 'Team1_superover_score', 'Team2_superover_score']\n",
    "matches_agg = pd.merge(matches, team_score, left_on = 'id', right_on = 'match_id', how = 'outer')\n",
    "\n",
    "team_extras = deliveries.groupby(['match_id', 'inning'])['extra_runs'].sum().unstack().reset_index()\n",
    "team_extras.columns = ['match_id', 'Team1_extras', 'Team2_extras', 'Team1_superover_extras', 'Team2_superover_extras']\n",
    "matches_agg = pd.merge(matches_agg, team_extras, on = 'match_id', how = 'outer')\n",
    "\n",
    "#Reorder the columns to make the data more readable\n",
    "cols = ['match_id', 'season','city','date','team1','team2', 'toss_winner', 'toss_decision', 'result', 'dl_applied', 'winner', 'Team1_score','Team2_score', 'win_by_runs', 'win_by_wickets', 'Team1_extras', 'Team2_extras', 'Team1_superover_score', 'Team2_superover_score', 'Team1_superover_extras', 'Team2_superover_extras', 'player_of_match', 'type', 'venue', 'umpire1', 'umpire2', 'umpire3']\n",
    "matches_agg = matches_agg[cols]\n",
    "matches_agg.head(2)"
   ]
  },
  {
   "cell_type": "markdown",
   "metadata": {
    "_cell_guid": "9d007aeb-5c0d-a09e-62da-7a616b7c7db0",
    "_uuid": "2ab670bec52f4e7f819e97e7618b66c1481f10bd"
   },
   "source": [
    "##Batsmen aggregates (Runs, Balls, 4s, 6s, SR)"
   ]
  },
  {
   "cell_type": "code",
   "execution_count": null,
   "metadata": {
    "_cell_guid": "6e4ac05d-416e-ed93-4cd1-ba0612c99bc8",
    "_uuid": "333ea446a7e0b6f857cfdbc462f51920360a3e44",
    "collapsed": true
   },
   "outputs": [],
   "source": [
    "batsman_grp = deliveries.groupby([\"match_id\", \"inning\", \"batting_team\", \"batsman\"])\n",
    "batsmen = batsman_grp[\"batsman_runs\"].sum().reset_index()\n",
    "\n",
    "# Ignore the wide balls.\n",
    "balls_faced = deliveries[deliveries[\"wide_runs\"] == 0]\n",
    "balls_faced = balls_faced.groupby([\"match_id\", \"inning\", \"batsman\"])[\"batsman_runs\"].count().reset_index()\n",
    "balls_faced.columns = [\"match_id\", \"inning\", \"batsman\", \"balls_faced\"]\n",
    "batsmen = batsmen.merge(balls_faced, left_on=[\"match_id\", \"inning\", \"batsman\"], \n",
    "                        right_on=[\"match_id\", \"inning\", \"batsman\"], how=\"left\")\n",
    "\n",
    "fours = deliveries[ deliveries[\"batsman_runs\"] == 4]\n",
    "sixes = deliveries[ deliveries[\"batsman_runs\"] == 6]\n",
    "\n",
    "fours_per_batsman = fours.groupby([\"match_id\", \"inning\", \"batsman\"])[\"batsman_runs\"].count().reset_index()\n",
    "sixes_per_batsman = sixes.groupby([\"match_id\", \"inning\", \"batsman\"])[\"batsman_runs\"].count().reset_index()\n",
    "\n",
    "fours_per_batsman.columns = [\"match_id\", \"inning\", \"batsman\", \"4s\"]\n",
    "sixes_per_batsman.columns = [\"match_id\", \"inning\", \"batsman\", \"6s\"]\n",
    "\n",
    "batsmen = batsmen.merge(fours_per_batsman, left_on=[\"match_id\", \"inning\", \"batsman\"], \n",
    "                        right_on=[\"match_id\", \"inning\", \"batsman\"], how=\"left\")\n",
    "batsmen = batsmen.merge(sixes_per_batsman, left_on=[\"match_id\", \"inning\", \"batsman\"], \n",
    "                        right_on=[\"match_id\", \"inning\", \"batsman\"], how=\"left\")\n",
    "batsmen['SR'] = np.round(batsmen['batsman_runs'] / batsmen['balls_faced'] * 100, 2)\n",
    "\n",
    "for col in [\"batsman_runs\", \"4s\", \"6s\", \"balls_faced\", \"SR\"]:\n",
    "    batsmen[col] = batsmen[col].fillna(0)\n",
    "\n",
    "dismissals = deliveries[ pd.notnull(deliveries[\"player_dismissed\"])]\n",
    "dismissals = dismissals[[\"match_id\", \"inning\", \"player_dismissed\", \"dismissal_kind\", \"fielder\"]]\n",
    "dismissals.rename(columns={\"player_dismissed\": \"batsman\"}, inplace=True)\n",
    "batsmen = batsmen.merge(dismissals, left_on=[\"match_id\", \"inning\", \"batsman\"], \n",
    "                        right_on=[\"match_id\", \"inning\", \"batsman\"], how=\"left\")\n",
    "\n",
    "batsmen = matches[['id','season']].merge(batsmen, left_on = 'id', right_on = 'match_id', how = 'left').drop('id', axis = 1)\n",
    "batsmen.head(2)"
   ]
  },
  {
   "cell_type": "markdown",
   "metadata": {
    "_cell_guid": "a6a03be0-d1fd-51a1-8af1-5bd4f6032d64",
    "_uuid": "b64e0e0de921ff93b23299ca47a391861215b4cf"
   },
   "source": [
    "##Bowler Aggregates"
   ]
  },
  {
   "cell_type": "code",
   "execution_count": null,
   "metadata": {
    "_cell_guid": "8312ce04-4d51-5569-4d2a-ab95b5203908",
    "_uuid": "4564341c416278edf9905f16cc9ad6850ad70fd1",
    "collapsed": true
   },
   "outputs": [],
   "source": [
    "bowler_grp = deliveries.groupby([\"match_id\", \"inning\", \"bowling_team\", \"bowler\", \"over\"])\n",
    "bowlers = bowler_grp[\"total_runs\", \"wide_runs\", \"bye_runs\", \"legbye_runs\", \"noball_runs\"].sum().reset_index()\n",
    "\n",
    "bowlers[\"runs\"] = bowlers[\"total_runs\"] - (bowlers[\"bye_runs\"] + bowlers[\"legbye_runs\"])\n",
    "bowlers[\"extras\"] = bowlers[\"wide_runs\"] + bowlers[\"noball_runs\"]\n",
    "\n",
    "del( bowlers[\"bye_runs\"])\n",
    "del( bowlers[\"legbye_runs\"])\n",
    "del( bowlers[\"total_runs\"])\n",
    "\n",
    "dismissal_kinds_for_bowler = [\"bowled\", \"caught\", \"lbw\", \"stumped\", \"caught and bowled\", \"hit wicket\"]\n",
    "dismissals = deliveries[deliveries[\"dismissal_kind\"].isin(dismissal_kinds_for_bowler)]\n",
    "dismissals = dismissals.groupby([\"match_id\", \"inning\", \"bowling_team\", \"bowler\", \"over\"])[\"dismissal_kind\"].count().reset_index()\n",
    "dismissals.rename(columns={\"dismissal_kind\": \"wickets\"}, inplace=True)\n",
    "\n",
    "bowlers = bowlers.merge(dismissals, left_on=[\"match_id\", \"inning\", \"bowling_team\", \"bowler\", \"over\"], \n",
    "                        right_on=[\"match_id\", \"inning\", \"bowling_team\", \"bowler\", \"over\"], how=\"left\")\n",
    "bowlers[\"wickets\"] = bowlers[\"wickets\"].fillna(0)\n",
    "\n",
    "bowlers_over = bowlers.groupby(['match_id', 'inning', 'bowling_team', 'bowler'])['over'].count().reset_index()\n",
    "bowlers = bowlers.groupby(['match_id', 'inning', 'bowling_team', 'bowler']).sum().reset_index().drop('over', 1)\n",
    "bowlers = bowlers_over.merge(bowlers, on=[\"match_id\", \"inning\", \"bowling_team\", \"bowler\"], how = 'left')\n",
    "bowlers['Econ'] = np.round(bowlers['runs'] / bowlers['over'] , 2)\n",
    "bowlers = matches[['id','season']].merge(bowlers, left_on = 'id', right_on = 'match_id', how = 'left').drop('id', axis = 1)\n",
    "\n",
    "bowlers.head(2)"
   ]
  },
  {
   "cell_type": "markdown",
   "metadata": {
    "_cell_guid": "91e3ae7b-0658-7044-96b2-9a8e579a5ec6",
    "_uuid": "266b5de8658156e820d72da4e81d6d2cf2c5fbbe"
   },
   "source": [
    "##Team wins in home city vs other cities\n",
    "Each team plays two matches against the other teams, one in its home city and other in the home city of the opposite team. It would be interesting see if playing in home city increases a teams chances of a win."
   ]
  },
  {
   "cell_type": "code",
   "execution_count": null,
   "metadata": {
    "_cell_guid": "9e1cb7aa-0c5f-b7e3-5c9a-be683b23fb21",
    "_uuid": "5018a0e3d80966def3aa7759438c457baafbb259",
    "collapsed": true
   },
   "outputs": [],
   "source": [
    "#No of wins by team and season in each city\n",
    "x, y = 2008, 2017\n",
    "while x < y:\n",
    "    wins_percity = matches_agg[matches_agg['season'] == x].groupby(['winner', 'city'])['match_id'].count().unstack()\n",
    "    plot = wins_percity.plot(kind='bar', stacked=True, title=\"Team wins in different cities\\nSeason \"+str(x), figsize=(7, 5))\n",
    "    sns.set_palette(\"Paired\", len(matches_agg['city'].unique()))\n",
    "    plot.set_xlabel(\"Teams\")\n",
    "    plot.set_ylabel(\"No of wins\")\n",
    "    plot.legend(loc='best', prop={'size':8})\n",
    "    x+=1"
   ]
  },
  {
   "cell_type": "markdown",
   "metadata": {
    "_cell_guid": "48dc47e7-1323-7e88-23de-4c11c6cb6f2d",
    "_uuid": "ec0368d72ccee5306a61057ec662ce103043dec0"
   },
   "source": [
    "##Plot the performance of top 5 batsmen over seasons\n",
    "V.Kohli show a steady improvement over season and C. Gayle  and SK Raina show a slump "
   ]
  },
  {
   "cell_type": "code",
   "execution_count": null,
   "metadata": {
    "_cell_guid": "65786cb3-7942-7fda-093e-675867a545b8",
    "_uuid": "572358d54dac717ca6bb5225d9f739ae238a4ffe",
    "collapsed": true
   },
   "outputs": [],
   "source": [
    "batsman_runsperseason = batsmen.groupby(['season', 'batting_team', 'batsman'])['batsman_runs'].sum().reset_index()\n",
    "batsman_runsperseason = batsman_runsperseason.groupby(['season', 'batsman'])['batsman_runs'].sum().unstack().T\n",
    "batsman_runsperseason['Total'] = batsman_runsperseason.sum(axis=1) #add total column to find batsman with the highest runs\n",
    "batsman_runsperseason = batsman_runsperseason.sort_values(by = 'Total', ascending = False).drop('Total', 1)\n",
    "ax = batsman_runsperseason[:5].T.plot()"
   ]
  },
  {
   "cell_type": "markdown",
   "metadata": {
    "_cell_guid": "e7c5ee93-2613-d8e9-e6e1-e8e3e72de1b3",
    "_uuid": "0459a057e20015e1c13d5cbdf290c6c583fb8cf4"
   },
   "source": [
    "##Percentage of total runs scored through boundaries for each batsman\n",
    "The average for top batsmen is around 58-60% with exception of CH Gayle at 76%. Interestingly, MS Dhoni who is known for helicopter shots(6s) gets close to 45% of his runs through singles"
   ]
  },
  {
   "cell_type": "code",
   "execution_count": null,
   "metadata": {
    "_cell_guid": "9fe82f08-73bb-b946-9a05-3adf39ea9a49",
    "_uuid": "da47b64698e549d546838953443066b7c401781f",
    "collapsed": true
   },
   "outputs": [],
   "source": [
    "batsman_runs = batsmen.groupby(['batsman'])['batsman_runs', '4s', '6s'].sum().reset_index()\n",
    "batsman_runs['4s_6s'] = batsman_runs['4s'] * 4 + batsman_runs['6s'] * 6\n",
    "batsman_runs['pct_boundaries'] = np.round(batsman_runs['4s_6s'] / batsman_runs['batsman_runs'] * 100, 2)\n",
    "batsman_runs = batsman_runs.sort_values(by = 'batsman_runs', ascending = False)\n",
    "batsman_runs[:10].plot(x= 'batsman', y = 'pct_boundaries', kind = 'bar')"
   ]
  },
  {
   "cell_type": "markdown",
   "metadata": {
    "_cell_guid": "1a8dd311-cbde-96ae-1f3f-c3226b55ebe8",
    "_uuid": "15f1c8b4fb08fb5ae017225e7c925777ad8f7b6b"
   },
   "source": [
    "##Performance of top bowlers over seasons\n",
    "Malinga is the highest wicket taken in IPL so far"
   ]
  },
  {
   "cell_type": "code",
   "execution_count": null,
   "metadata": {
    "_cell_guid": "b6c1a496-82bc-1073-4a93-b3fb5cf184c8",
    "_uuid": "6d411d470d9a0e1df65d41d1eb8b373f2b54605b",
    "collapsed": true
   },
   "outputs": [],
   "source": [
    "bowlers_wickets = bowlers.groupby(['bowler'])['wickets'].sum()\n",
    "bowlers_wickets.sort_values(ascending = False, inplace = True)\n",
    "bowlers_wickets[:10].plot(x= 'bowler', y = 'runs', kind = 'barh', colormap = 'Accent')"
   ]
  },
  {
   "cell_type": "markdown",
   "metadata": {
    "_cell_guid": "c7d3c30e-4531-a937-2150-7dfa730cb3a2",
    "_uuid": "2deddbe78185cae920fce3655fccdf70395681fe"
   },
   "source": [
    "##Extra runs conceded by bowlers"
   ]
  },
  {
   "cell_type": "code",
   "execution_count": null,
   "metadata": {
    "_cell_guid": "04cf25ba-b826-a8e3-ffbc-9f252d998c5f",
    "_uuid": "88c7b8c0105a0f34b039f87e19f20c57d4b8c68c",
    "collapsed": true
   },
   "outputs": [],
   "source": [
    "bowlers_extras = bowlers.groupby(['season', 'bowler'])['extras'].sum().unstack().T\n",
    "bowlers_extras['Total'] = bowlers_extras.sum(axis=1)\n",
    "bowlers_extras.sort('Total', ascending = False, inplace = True)\n",
    "bowlers_extras.head()"
   ]
  },
  {
   "cell_type": "markdown",
   "metadata": {
    "_cell_guid": "12817638-6e76-9154-8b06-7b384db332a9",
    "_uuid": "7f97ff937f01bb2b0807fa8b300aff045f413193"
   },
   "source": [
    "##Player of the match\n",
    "See who has won the Player of the match award maximum number of times"
   ]
  },
  {
   "cell_type": "code",
   "execution_count": null,
   "metadata": {
    "_cell_guid": "733d85be-a515-4913-4cad-4672a5b9f778",
    "_uuid": "25655d806b52f44505ef4ffb4f509834dfaa128d",
    "collapsed": true
   },
   "outputs": [],
   "source": [
    "matches['player_of_match'].value_counts()[:10].plot(kind = 'bar')"
   ]
  },
  {
   "cell_type": "markdown",
   "metadata": {
    "_cell_guid": "2f781799-dfc6-104b-42a4-eeb2550c0e37",
    "_uuid": "f1e0f7b28c94c0a71a88500cde6e905cc2610260"
   },
   "source": [
    "## Impact of toss on the match outcome"
   ]
  },
  {
   "cell_type": "code",
   "execution_count": null,
   "metadata": {
    "_cell_guid": "7bc0cc94-0b5c-3dda-c507-7b66a5642e7d",
    "_uuid": "100fc5c13b3d8e0c83864fccf2225c19cfa3b2ba",
    "collapsed": true
   },
   "outputs": [],
   "source": [
    "toss = matches_agg.groupby(['season', 'toss_winner']).winner.value_counts().reset_index(name = 'count')\n",
    "toss['result'] = np.where(toss.toss_winner == toss.winner, 'won', 'lost')\n",
    "toss_result = toss.groupby(['season', 'toss_winner','result'])['count'].sum().reset_index()\n",
    "\n",
    "for x in range(2008, 2017, 1):\n",
    "    toss_result_x = toss_result[toss_result['season'] == x]\n",
    "    plot = sns.barplot(x=\"toss_winner\", y=\"count\", hue=\"result\", data=toss_result_x)\n",
    "    plot.set_title('Matches won/lost by teams winning toss \\nSeason ' +str(x))\n",
    "    plot.set_xticklabels(toss_result_x['toss_winner'],rotation=30)\n",
    "    plt.show()\n",
    "    x+=1"
   ]
  },
  {
   "cell_type": "code",
   "execution_count": null,
   "metadata": {
    "_cell_guid": "babefe49-71b8-274e-1101-f2f71b68205c",
    "_uuid": "195c7ca3d268e0cda9f83678ab720203488db857",
    "collapsed": true
   },
   "outputs": [],
   "source": []
  },
  {
   "cell_type": "code",
   "execution_count": null,
   "metadata": {
    "_cell_guid": "6c8331cf-338f-4a6c-af7c-183f0233cf72",
    "_uuid": "766b8581d5a26c3498e7159a06f6a24a65b3b110",
    "collapsed": true
   },
   "outputs": [],
   "source": []
  },
  {
   "cell_type": "code",
   "execution_count": null,
   "metadata": {
    "_cell_guid": "4765064a-cdde-d3a6-5c15-cf10173b415e",
    "_uuid": "e5b4e32dd7b3f22eaf7d303ccbb1b3118950443a",
    "collapsed": true
   },
   "outputs": [],
   "source": []
  }
 ],
 "metadata": {
  "_change_revision": 0,
  "_is_fork": false,
  "kernelspec": {
   "display_name": "Python 2",
   "language": "python",
   "name": "python2"
  },
  "language_info": {
   "codemirror_mode": {
    "name": "ipython",
    "version": 2
   },
   "file_extension": ".py",
   "mimetype": "text/x-python",
   "name": "python",
   "nbconvert_exporter": "python",
   "pygments_lexer": "ipython2",
   "version": "2.7.14"
  }
 },
 "nbformat": 4,
 "nbformat_minor": 1
}
